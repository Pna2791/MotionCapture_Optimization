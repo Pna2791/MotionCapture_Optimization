{
 "cells": [
  {
   "cell_type": "code",
   "execution_count": 8,
   "metadata": {},
   "outputs": [
    {
     "name": "stdout",
     "output_type": "stream",
     "text": [
      "[(None, None), (None, None)]\n",
      "[(1, 1), (9, 9)]\n"
     ]
    },
    {
     "data": {
      "text/plain": [
       "8"
      ]
     },
     "execution_count": 8,
     "metadata": {},
     "output_type": "execute_result"
    }
   ],
   "source": [
    "\n",
    "\n",
    "from typing import List\n",
    "import math\n",
    "\n",
    "class Solution:\n",
    "    def maximumGap(self, nums: List[int]) -> int:\n",
    "        max_val = max(nums)\n",
    "        min_val = min(nums)\n",
    "        length = len(nums)\n",
    "        if length < 2:\n",
    "            return 0\n",
    "        \n",
    "        interval = math.ceil((max_val-min_val)/(length-1))\n",
    "        buckets = [(None, None)]*((max_val-min_val)//interval+1)\n",
    "        print(buckets)\n",
    "        for num in nums:\n",
    "            index = (num-min_val) // interval\n",
    "            i_min, i_max = buckets[index]\n",
    "            i_min = min(num, i_min) if i_min else num\n",
    "            i_max = max(num, i_max) if i_max else num\n",
    "            buckets[index] = (i_min, i_max)\n",
    "        print(buckets)\n",
    "        result = 0\n",
    "        pre_max = min_val\n",
    "        for i_min, i_max in buckets:\n",
    "            if i_min:\n",
    "                if i_min - pre_max > result:\n",
    "                    result = i_min - pre_max\n",
    "                pre_max = i_max\n",
    "        return result\n",
    "    \n",
    "Solution().maximumGap([9,1])"
   ]
  }
 ],
 "metadata": {
  "kernelspec": {
   "display_name": "Python 3",
   "language": "python",
   "name": "python3"
  },
  "language_info": {
   "codemirror_mode": {
    "name": "ipython",
    "version": 3
   },
   "file_extension": ".py",
   "mimetype": "text/x-python",
   "name": "python",
   "nbconvert_exporter": "python",
   "pygments_lexer": "ipython3",
   "version": "3.9.11"
  }
 },
 "nbformat": 4,
 "nbformat_minor": 2
}
